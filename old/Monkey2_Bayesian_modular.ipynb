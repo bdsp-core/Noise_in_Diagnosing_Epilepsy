{
 "cells": [
  {
   "cell_type": "code",
   "execution_count": 1,
   "id": "689c2d71-fa41-482c-b2f7-e6015ae88830",
   "metadata": {},
   "outputs": [
    {
     "name": "stderr",
     "output_type": "stream",
     "text": [
      "WARNING (pytensor.tensor.blas): Using NumPy C-API based implementation for BLAS functions.\n"
     ]
    },
    {
     "name": "stdout",
     "output_type": "stream",
     "text": [
      "Loading data from dataQ1.csv\n",
      "Data head:\n",
      "   id  item  t  Y\n",
      "0   1     1  1  0\n",
      "1   1     2  1  0\n",
      "2   1     3  1  0\n",
      "3   1     4  1  0\n",
      "4   1     5  1  1\n",
      "\n",
      "Dataset summary:\n",
      "Number of experts: 20\n",
      "Number of cases: 50\n",
      "Number of observations: 2000\n",
      "\n",
      "Building model...\n",
      "\n",
      "Sampling...\n"
     ]
    },
    {
     "data": {
      "application/vnd.jupyter.widget-view+json": {
       "model_id": "100b7d61da5945b8a8deb464da4347d0",
       "version_major": 2,
       "version_minor": 0
      },
      "text/plain": [
       "  0%|          | 0/7000 [00:00<?, ?it/s]"
      ]
     },
     "metadata": {},
     "output_type": "display_data"
    },
    {
     "data": {
      "application/vnd.jupyter.widget-view+json": {
       "model_id": "06b9c74652d846e09a1125f09899852c",
       "version_major": 2,
       "version_minor": 0
      },
      "text/plain": [
       "  0%|          | 0/7000 [00:00<?, ?it/s]"
      ]
     },
     "metadata": {},
     "output_type": "display_data"
    },
    {
     "data": {
      "application/vnd.jupyter.widget-view+json": {
       "model_id": "9b4899ac25914dfaa151fc3951f2c26c",
       "version_major": 2,
       "version_minor": 0
      },
      "text/plain": [
       "  0%|          | 0/7000 [00:00<?, ?it/s]"
      ]
     },
     "metadata": {},
     "output_type": "display_data"
    },
    {
     "data": {
      "application/vnd.jupyter.widget-view+json": {
       "model_id": "502a2ed6579847f29ddbf444bca56860",
       "version_major": 2,
       "version_minor": 0
      },
      "text/plain": [
       "  0%|          | 0/7000 [00:00<?, ?it/s]"
      ]
     },
     "metadata": {},
     "output_type": "display_data"
    },
    {
     "data": {
      "application/vnd.jupyter.widget-view+json": {
       "model_id": "17b94c369cff45228b871c47d7595490",
       "version_major": 2,
       "version_minor": 0
      },
      "text/plain": [
       "  0%|          | 0/7000 [00:00<?, ?it/s]"
      ]
     },
     "metadata": {},
     "output_type": "display_data"
    },
    {
     "data": {
      "application/vnd.jupyter.widget-view+json": {
       "model_id": "8fff66268cad4111bd4589ead6147d3b",
       "version_major": 2,
       "version_minor": 0
      },
      "text/plain": [
       "  0%|          | 0/7000 [00:00<?, ?it/s]"
      ]
     },
     "metadata": {},
     "output_type": "display_data"
    },
    {
     "data": {
      "application/vnd.jupyter.widget-view+json": {
       "model_id": "dbaac0d0ee024347b17fcc25e926c234",
       "version_major": 2,
       "version_minor": 0
      },
      "text/plain": [
       "  0%|          | 0/7000 [00:00<?, ?it/s]"
      ]
     },
     "metadata": {},
     "output_type": "display_data"
    },
    {
     "data": {
      "application/vnd.jupyter.widget-view+json": {
       "model_id": "9bbb2854cfb246938b12627140d45a8b",
       "version_major": 2,
       "version_minor": 0
      },
      "text/plain": [
       "  0%|          | 0/7000 [00:00<?, ?it/s]"
      ]
     },
     "metadata": {},
     "output_type": "display_data"
    },
    {
     "data": {
      "application/vnd.jupyter.widget-view+json": {
       "model_id": "87b960583a76415fbcbf5971e0a754fe",
       "version_major": 2,
       "version_minor": 0
      },
      "text/plain": [
       "  0%|          | 0/7000 [00:00<?, ?it/s]"
      ]
     },
     "metadata": {},
     "output_type": "display_data"
    },
    {
     "data": {
      "application/vnd.jupyter.widget-view+json": {
       "model_id": "bdf14372e82b49c39da6a57876128bde",
       "version_major": 2,
       "version_minor": 0
      },
      "text/plain": [
       "  0%|          | 0/7000 [00:00<?, ?it/s]"
      ]
     },
     "metadata": {},
     "output_type": "display_data"
    },
    {
     "name": "stdout",
     "output_type": "stream",
     "text": [
      "\n",
      "Posterior Summary:\n",
      "            mean     sd  hdi_3%  hdi_97%  mcse_mean  mcse_sd  ess_bulk  \\\n",
      "sigma_c    3.119  0.397   2.410    3.888      0.004    0.003   12088.0   \n",
      "sigma_l    1.830  0.332   1.246    2.461      0.003    0.002   15153.0   \n",
      "sigma_p    1.182  0.278   0.662    1.706      0.003    0.002    6774.0   \n",
      "sigma_o    0.372  0.281   0.000    0.877      0.004    0.003    5349.0   \n",
      "intercept -4.792  0.741  -6.235   -3.454      0.009    0.007    6397.0   \n",
      "\n",
      "           ess_tail  r_hat  \n",
      "sigma_c     22541.0    1.0  \n",
      "sigma_l     25200.0    1.0  \n",
      "sigma_p      7196.0    1.0  \n",
      "sigma_o      8618.0    1.0  \n",
      "intercept   13498.0    1.0  \n",
      "\n",
      "Variance Decomposition:\n",
      "Total Variance (sum of components): 15.035\n",
      "Percentage contributions:\n",
      "  Signal (case) variance:         65.74%\n",
      "  Level noise (expert) variance:    23.01%\n",
      "  Pattern noise (interaction) variance: 9.81%\n",
      "  Occasion noise (observation-level) variance: 1.44%\n",
      "\n",
      "Effective scale estimates:\n",
      "Signal (S): 3.14\n",
      "Level Noise (LN): 1.86\n",
      "Pattern Noise (PN): 1.21\n",
      "Occasion Noise (ON): 0.47\n",
      "\n",
      "Results saved to resultsQ1.pkl\n",
      "Loading data from dataQ2.csv\n",
      "Data head:\n",
      "   id  item  t  Y\n",
      "0   1     1  1  1\n",
      "1   1     2  1  1\n",
      "2   1     3  1  0\n",
      "3   1     4  1  0\n",
      "4   1     5  1  1\n",
      "\n",
      "Dataset summary:\n",
      "Number of experts: 20\n",
      "Number of cases: 50\n",
      "Number of observations: 2000\n",
      "\n",
      "Building model...\n",
      "\n",
      "Sampling...\n"
     ]
    },
    {
     "data": {
      "application/vnd.jupyter.widget-view+json": {
       "model_id": "99e9b8625d0642328222dadd0ef72cef",
       "version_major": 2,
       "version_minor": 0
      },
      "text/plain": [
       "  0%|          | 0/7000 [00:00<?, ?it/s]"
      ]
     },
     "metadata": {},
     "output_type": "display_data"
    },
    {
     "data": {
      "application/vnd.jupyter.widget-view+json": {
       "model_id": "b17fb9d85a42487487fe2d0c1c1444eb",
       "version_major": 2,
       "version_minor": 0
      },
      "text/plain": [
       "  0%|          | 0/7000 [00:00<?, ?it/s]"
      ]
     },
     "metadata": {},
     "output_type": "display_data"
    },
    {
     "data": {
      "application/vnd.jupyter.widget-view+json": {
       "model_id": "cfe2d70e4537479cbb3402733d880822",
       "version_major": 2,
       "version_minor": 0
      },
      "text/plain": [
       "  0%|          | 0/7000 [00:00<?, ?it/s]"
      ]
     },
     "metadata": {},
     "output_type": "display_data"
    },
    {
     "data": {
      "application/vnd.jupyter.widget-view+json": {
       "model_id": "78f2ee8486264de3b941970759f96b72",
       "version_major": 2,
       "version_minor": 0
      },
      "text/plain": [
       "  0%|          | 0/7000 [00:00<?, ?it/s]"
      ]
     },
     "metadata": {},
     "output_type": "display_data"
    },
    {
     "data": {
      "application/vnd.jupyter.widget-view+json": {
       "model_id": "ee8b62d00fa44ebbbb7ee3deecf21b42",
       "version_major": 2,
       "version_minor": 0
      },
      "text/plain": [
       "  0%|          | 0/7000 [00:00<?, ?it/s]"
      ]
     },
     "metadata": {},
     "output_type": "display_data"
    },
    {
     "data": {
      "application/vnd.jupyter.widget-view+json": {
       "model_id": "b9880ce03ef845c68159e992482043e6",
       "version_major": 2,
       "version_minor": 0
      },
      "text/plain": [
       "  0%|          | 0/7000 [00:00<?, ?it/s]"
      ]
     },
     "metadata": {},
     "output_type": "display_data"
    },
    {
     "data": {
      "application/vnd.jupyter.widget-view+json": {
       "model_id": "ce7620d0e5ee4bed9332416c6b3c67e9",
       "version_major": 2,
       "version_minor": 0
      },
      "text/plain": [
       "  0%|          | 0/7000 [00:00<?, ?it/s]"
      ]
     },
     "metadata": {},
     "output_type": "display_data"
    },
    {
     "data": {
      "application/vnd.jupyter.widget-view+json": {
       "model_id": "a7d5ddf6f8034f47bd21b3618419b4d7",
       "version_major": 2,
       "version_minor": 0
      },
      "text/plain": [
       "  0%|          | 0/7000 [00:00<?, ?it/s]"
      ]
     },
     "metadata": {},
     "output_type": "display_data"
    },
    {
     "data": {
      "application/vnd.jupyter.widget-view+json": {
       "model_id": "997da628ac694de7ac589100e15aa713",
       "version_major": 2,
       "version_minor": 0
      },
      "text/plain": [
       "  0%|          | 0/7000 [00:00<?, ?it/s]"
      ]
     },
     "metadata": {},
     "output_type": "display_data"
    },
    {
     "data": {
      "application/vnd.jupyter.widget-view+json": {
       "model_id": "18195245ee4b42a89bb3f81e3bb8591e",
       "version_major": 2,
       "version_minor": 0
      },
      "text/plain": [
       "  0%|          | 0/7000 [00:00<?, ?it/s]"
      ]
     },
     "metadata": {},
     "output_type": "display_data"
    },
    {
     "name": "stdout",
     "output_type": "stream",
     "text": [
      "\n",
      "Posterior Summary:\n",
      "            mean     sd  hdi_3%  hdi_97%  mcse_mean  mcse_sd  ess_bulk  \\\n",
      "sigma_c    3.303  0.363   2.646    3.994      0.003    0.002   11047.0   \n",
      "sigma_l    0.899  0.203   0.547    1.290      0.002    0.001   16360.0   \n",
      "sigma_p    1.935  0.217   1.515    2.329      0.002    0.002   10544.0   \n",
      "sigma_o    0.366  0.278   0.000    0.864      0.005    0.003    3847.0   \n",
      "intercept -0.148  0.531  -1.144    0.858      0.008    0.006    4399.0   \n",
      "\n",
      "           ess_tail  r_hat  \n",
      "sigma_c     19672.0    1.0  \n",
      "sigma_l     28018.0    1.0  \n",
      "sigma_p     18603.0    1.0  \n",
      "sigma_o      5925.0    1.0  \n",
      "intercept    9988.0    1.0  \n",
      "\n",
      "Variance Decomposition:\n",
      "Total Variance (sum of components): 15.890\n",
      "Percentage contributions:\n",
      "  Signal (case) variance:         69.48%\n",
      "  Level noise (expert) variance:    5.34%\n",
      "  Pattern noise (interaction) variance: 23.85%\n",
      "  Occasion noise (observation-level) variance: 1.33%\n",
      "\n",
      "Effective scale estimates:\n",
      "Signal (S): 3.32\n",
      "Level Noise (LN): 0.92\n",
      "Pattern Noise (PN): 1.95\n",
      "Occasion Noise (ON): 0.46\n",
      "\n",
      "Results saved to resultsQ2.pkl\n",
      "Loading data from dataQEEG.csv\n",
      "Data head:\n",
      "   id  item  t  Y\n",
      "0   1     1  1  1\n",
      "1   1     2  1  1\n",
      "2   1     3  1  1\n",
      "3   1     4  1  1\n",
      "4   1     5  1  0\n",
      "\n",
      "Dataset summary:\n",
      "Number of experts: 20\n",
      "Number of cases: 50\n",
      "Number of observations: 2000\n",
      "\n",
      "Building model...\n",
      "\n",
      "Sampling...\n"
     ]
    },
    {
     "data": {
      "application/vnd.jupyter.widget-view+json": {
       "model_id": "4b0ae4d280de4330b3f94a66e7cd628a",
       "version_major": 2,
       "version_minor": 0
      },
      "text/plain": [
       "  0%|          | 0/7000 [00:00<?, ?it/s]"
      ]
     },
     "metadata": {},
     "output_type": "display_data"
    },
    {
     "data": {
      "application/vnd.jupyter.widget-view+json": {
       "model_id": "09e62d370d6d4d26860c001a310c43d2",
       "version_major": 2,
       "version_minor": 0
      },
      "text/plain": [
       "  0%|          | 0/7000 [00:00<?, ?it/s]"
      ]
     },
     "metadata": {},
     "output_type": "display_data"
    },
    {
     "data": {
      "application/vnd.jupyter.widget-view+json": {
       "model_id": "7aa18d2064dd43cbb3b731c7c3e476fa",
       "version_major": 2,
       "version_minor": 0
      },
      "text/plain": [
       "  0%|          | 0/7000 [00:00<?, ?it/s]"
      ]
     },
     "metadata": {},
     "output_type": "display_data"
    },
    {
     "data": {
      "application/vnd.jupyter.widget-view+json": {
       "model_id": "80fc5389f6b74e5cae843b6e44b5bdf4",
       "version_major": 2,
       "version_minor": 0
      },
      "text/plain": [
       "  0%|          | 0/7000 [00:00<?, ?it/s]"
      ]
     },
     "metadata": {},
     "output_type": "display_data"
    },
    {
     "data": {
      "application/vnd.jupyter.widget-view+json": {
       "model_id": "3f672b0531b945a29eecbcc15c3b6578",
       "version_major": 2,
       "version_minor": 0
      },
      "text/plain": [
       "  0%|          | 0/7000 [00:00<?, ?it/s]"
      ]
     },
     "metadata": {},
     "output_type": "display_data"
    },
    {
     "data": {
      "application/vnd.jupyter.widget-view+json": {
       "model_id": "68c5b00309fe4fa5a75efe0babe91ba8",
       "version_major": 2,
       "version_minor": 0
      },
      "text/plain": [
       "  0%|          | 0/7000 [00:00<?, ?it/s]"
      ]
     },
     "metadata": {},
     "output_type": "display_data"
    },
    {
     "data": {
      "application/vnd.jupyter.widget-view+json": {
       "model_id": "6ef48f3b940c420c8a5d3dfd51865843",
       "version_major": 2,
       "version_minor": 0
      },
      "text/plain": [
       "  0%|          | 0/7000 [00:00<?, ?it/s]"
      ]
     },
     "metadata": {},
     "output_type": "display_data"
    },
    {
     "data": {
      "application/vnd.jupyter.widget-view+json": {
       "model_id": "78b47cea53004de98399060669f5bcea",
       "version_major": 2,
       "version_minor": 0
      },
      "text/plain": [
       "  0%|          | 0/7000 [00:00<?, ?it/s]"
      ]
     },
     "metadata": {},
     "output_type": "display_data"
    },
    {
     "data": {
      "application/vnd.jupyter.widget-view+json": {
       "model_id": "feeaa05d81d34d7aa8515b87e6f8157d",
       "version_major": 2,
       "version_minor": 0
      },
      "text/plain": [
       "  0%|          | 0/7000 [00:00<?, ?it/s]"
      ]
     },
     "metadata": {},
     "output_type": "display_data"
    },
    {
     "data": {
      "application/vnd.jupyter.widget-view+json": {
       "model_id": "b21018e4135648239edbd63861a21eae",
       "version_major": 2,
       "version_minor": 0
      },
      "text/plain": [
       "  0%|          | 0/7000 [00:00<?, ?it/s]"
      ]
     },
     "metadata": {},
     "output_type": "display_data"
    },
    {
     "name": "stdout",
     "output_type": "stream",
     "text": [
      "\n",
      "Posterior Summary:\n",
      "            mean     sd  hdi_3%  hdi_97%  mcse_mean  mcse_sd  ess_bulk  \\\n",
      "sigma_c    1.940  0.269   1.463    2.457      0.003    0.002    7146.0   \n",
      "sigma_l    1.660  0.297   1.141    2.229      0.003    0.002   11757.0   \n",
      "sigma_p    1.793  0.217   1.387    2.193      0.003    0.002    5369.0   \n",
      "sigma_o    0.482  0.359   0.000    1.126      0.008    0.006    2275.0   \n",
      "intercept  1.712  0.502   0.760    2.655      0.006    0.004    8087.0   \n",
      "\n",
      "           ess_tail  r_hat  \n",
      "sigma_c     11679.0    1.0  \n",
      "sigma_l     22802.0    1.0  \n",
      "sigma_p      8004.0    1.0  \n",
      "sigma_o      3752.0    1.0  \n",
      "intercept   13626.0    1.0  \n",
      "\n",
      "Variance Decomposition:\n",
      "Total Variance (sum of components): 10.303\n",
      "Percentage contributions:\n",
      "  Signal (case) variance:         37.22%\n",
      "  Level noise (expert) variance:    27.59%\n",
      "  Pattern noise (interaction) variance: 31.68%\n",
      "  Occasion noise (observation-level) variance: 3.51%\n",
      "\n",
      "Effective scale estimates:\n",
      "Signal (S): 1.96\n",
      "Level Noise (LN): 1.69\n",
      "Pattern Noise (PN): 1.81\n",
      "Occasion Noise (ON): 0.60\n",
      "\n",
      "Results saved to resultsQEEG.pkl\n"
     ]
    }
   ],
   "source": [
    "import os\n",
    "import pickle\n",
    "import numpy as np\n",
    "import pandas as pd\n",
    "import pymc as pm\n",
    "import arviz as az\n",
    "import matplotlib.pyplot as plt\n",
    "import pytensor\n",
    "import warnings\n",
    "\n",
    "warnings.filterwarnings('ignore')\n",
    "\n",
    "def run_analysis(data_filename, results_filename=\"results.pkl\"):\n",
    "    \"\"\"\n",
    "    Loads data from a CSV file, builds and samples a Bayesian hierarchical model using PyMC,\n",
    "    computes the variance decomposition for the latent scale parameters, and saves key results to a file.\n",
    "    \n",
    "    Parameters:\n",
    "      data_filename (str): Name of the CSV file containing the data.\n",
    "      results_filename (str): Name of the file to save the results (default \"results.pkl\").\n",
    "      \n",
    "    The saved dictionary contains:\n",
    "      - \"trace\": The InferenceData object from MCMC.\n",
    "      - \"variance_decomposition\": A dictionary with keys 'total_variance', 'perc_c', 'perc_l', 'perc_p', 'perc_o'.\n",
    "      - \"effective_scales\": A dictionary with keys 'S_est', 'LN_est', 'PN_est', 'ON_est'.\n",
    "      - \"data\": The preprocessed pandas DataFrame.\n",
    "    \"\"\"\n",
    "    \n",
    "    # Set PyTensor flags before any PyTensor-related imports\n",
    "    os.environ[\"PYTENSOR_DEVICE\"] = \"cpu\"\n",
    "    os.environ[\"PYTENSOR_FLOATX\"] = \"float64\"\n",
    "    os.environ[\"PYTENSOR_COMPUTE_TEST_VALUE\"] = \"ignore\"\n",
    "    \n",
    "    print(\"Loading data from\", data_filename)\n",
    "    data = pd.read_csv(data_filename)\n",
    "    print(\"Data head:\")\n",
    "    print(data.head())\n",
    "    \n",
    "    # Create integer indices.\n",
    "    data['expert_idx'] = pd.Categorical(data['id']).codes\n",
    "    data['case_idx'] = pd.Categorical(data['item']).codes\n",
    "    data['occ_idx'] = pd.Categorical(data['t']).codes\n",
    "    \n",
    "    # Get dimensions.\n",
    "    n_experts = data['expert_idx'].nunique()\n",
    "    n_cases = data['case_idx'].nunique()\n",
    "    n_obs = data.shape[0]\n",
    "    \n",
    "    print(\"\\nDataset summary:\")\n",
    "    print(f\"Number of experts: {n_experts}\")\n",
    "    print(f\"Number of cases: {n_cases}\")\n",
    "    print(f\"Number of observations: {n_obs}\")\n",
    "    \n",
    "    # Build and sample from the PyMC model using non-centered parameterizations for all latent variables.\n",
    "    print(\"\\nBuilding model...\")\n",
    "    with pm.Model() as model:\n",
    "        # Priors for scale parameters.\n",
    "        sigma_c = pm.HalfNormal(\"sigma_c\", sigma=1)\n",
    "        sigma_l = pm.HalfNormal(\"sigma_l\", sigma=1)\n",
    "        sigma_p = pm.HalfNormal(\"sigma_p\", sigma=1)\n",
    "        sigma_o = pm.HalfNormal(\"sigma_o\", sigma=1)\n",
    "        intercept = pm.Normal(\"intercept\", mu=0, sigma=10)\n",
    "        \n",
    "        # Non-centered latent variables for cases, experts, and their interactions.\n",
    "        z_c = pm.Normal(\"z_c\", mu=0, sigma=1, shape=n_cases)\n",
    "        c = pm.Deterministic(\"c\", z_c * sigma_c)\n",
    "        \n",
    "        z_l = pm.Normal(\"z_l\", mu=0, sigma=1, shape=n_experts)\n",
    "        l = pm.Deterministic(\"l\", z_l * sigma_l)\n",
    "        \n",
    "        z_p = pm.Normal(\"z_p\", mu=0, sigma=1, shape=(n_experts, n_cases))\n",
    "        p = pm.Deterministic(\"p\", z_p * sigma_p)\n",
    "        \n",
    "        # Non-centered parameterization for observation-level effects.\n",
    "        z_o = pm.Normal(\"z_o\", mu=0, sigma=1, shape=n_obs)\n",
    "        o = pm.Deterministic(\"o\", z_o * sigma_o)\n",
    "        \n",
    "        # Linear predictor: use the indices as before.\n",
    "        z = (intercept +\n",
    "             c[data['case_idx'].values] +\n",
    "             l[data['expert_idx'].values] +\n",
    "             p[data['expert_idx'].values, data['case_idx'].values] +\n",
    "             o)\n",
    "        \n",
    "        # Likelihood.\n",
    "        y_obs = pm.Bernoulli(\"y_obs\", logit_p=z, observed=data['Y'].values)\n",
    "        \n",
    "        # Setup monitoring for selected parameters.\n",
    "        monitor_vars = ['sigma_c', 'sigma_l', 'sigma_p', 'sigma_o', 'intercept']\n",
    "        diagnostics = None  # (Not using a live callback here.)\n",
    "        \n",
    "        print(\"\\nSampling...\")\n",
    "        trace = pm.sample(\n",
    "            draws=5000,\n",
    "            tune=2000,\n",
    "            chains=10,\n",
    "            cores=6,\n",
    "            random_seed=42,\n",
    "            return_inferencedata=True,\n",
    "            nuts_sampler='numpyro',\n",
    "            init='jitter+adapt_diag',\n",
    "            progressbar=True,\n",
    "            target_accept=0.98\n",
    "        )\n",
    "    \n",
    "    # Post-sampling analysis.\n",
    "    print(\"\\nPosterior Summary:\")\n",
    "    summary = az.summary(trace, var_names=monitor_vars)\n",
    "    print(summary)\n",
    "    \n",
    "    # Extract posterior samples for the scale parameters (flattening across chains and draws)\n",
    "    sigma_c_samples = trace.posterior['sigma_c'].values.flatten()\n",
    "    sigma_l_samples = trace.posterior['sigma_l'].values.flatten()\n",
    "    sigma_p_samples = trace.posterior['sigma_p'].values.flatten()\n",
    "    sigma_o_samples = trace.posterior['sigma_o'].values.flatten()\n",
    "    \n",
    "    # Compute the variance for each component (variance = sigma^2)\n",
    "    var_c = np.mean(sigma_c_samples ** 2)\n",
    "    var_l = np.mean(sigma_l_samples ** 2)\n",
    "    var_p = np.mean(sigma_p_samples ** 2)\n",
    "    var_o = np.mean(sigma_o_samples ** 2)\n",
    "    \n",
    "    # Calculate the total variance as the sum of the four component variances.\n",
    "    total_variance = var_c + var_l + var_p + var_o\n",
    "    \n",
    "    # Compute percentage contributions based on variances.\n",
    "    perc_c = (var_c / total_variance) * 100\n",
    "    perc_l = (var_l / total_variance) * 100\n",
    "    perc_p = (var_p / total_variance) * 100\n",
    "    perc_o = (var_o / total_variance) * 100\n",
    "    \n",
    "    print(\"\\nVariance Decomposition:\")\n",
    "    print(f\"Total Variance (sum of components): {total_variance:.3f}\")\n",
    "    print(\"Percentage contributions:\")\n",
    "    print(f\"  Signal (case) variance:         {perc_c:.2f}%\")\n",
    "    print(f\"  Level noise (expert) variance:    {perc_l:.2f}%\")\n",
    "    print(f\"  Pattern noise (interaction) variance: {perc_p:.2f}%\")\n",
    "    print(f\"  Occasion noise (observation-level) variance: {perc_o:.2f}%\")\n",
    "    \n",
    "    # Compute effective scale estimates as the square roots of the variances.\n",
    "    S_est = np.sqrt(var_c)\n",
    "    LN_est = np.sqrt(var_l)\n",
    "    PN_est = np.sqrt(var_p)\n",
    "    ON_est = np.sqrt(var_o)\n",
    "    \n",
    "    print(\"\\nEffective scale estimates:\")\n",
    "    print(f\"Signal (S): {S_est:.2f}\")\n",
    "    print(f\"Level Noise (LN): {LN_est:.2f}\")\n",
    "    print(f\"Pattern Noise (PN): {PN_est:.2f}\")\n",
    "    print(f\"Occasion Noise (ON): {ON_est:.2f}\")\n",
    "    \n",
    "    # Prepare results dictionary.\n",
    "    results = {\n",
    "        \"trace\": trace,\n",
    "        \"variance_decomposition\": {\n",
    "            \"total_variance\": total_variance,\n",
    "            \"perc_c\": perc_c,\n",
    "            \"perc_l\": perc_l,\n",
    "            \"perc_p\": perc_p,\n",
    "            \"perc_o\": perc_o\n",
    "        },\n",
    "        \"effective_scales\": {\n",
    "            \"S_est\": S_est,\n",
    "            \"LN_est\": LN_est,\n",
    "            \"PN_est\": PN_est,\n",
    "            \"ON_est\": ON_est\n",
    "        },\n",
    "        \"data\": data\n",
    "    }\n",
    "    \n",
    "    # Save results to file.\n",
    "    with open(results_filename, \"wb\") as f:\n",
    "        pickle.dump(results, f)\n",
    "    \n",
    "    print(f\"\\nResults saved to {results_filename}\")\n",
    "    \n",
    "    return results\n",
    "\n",
    "# Call function\n",
    "results1 = run_analysis(\"dataQ1.csv\", \"resultsQ1.pkl\")\n",
    "results3 = run_analysis(\"dataQ2.csv\", \"resultsQ2.pkl\")\n",
    "results2 = run_analysis(\"dataQEEG.csv\", \"resultsQEEG.pkl\")"
   ]
  },
  {
   "cell_type": "code",
   "execution_count": 4,
   "id": "645f6abd-07b3-4dd8-b12f-7f6efd3e55dc",
   "metadata": {},
   "outputs": [
    {
     "data": {
      "image/png": "[encoded data removed]",
      "text/plain": [
       "<Figure size 1500x1200 with 15 Axes>"
      ]
     },
     "metadata": {},
     "output_type": "display_data"
    }
   ],
   "source": [
    "import numpy as np\n",
    "import matplotlib.pyplot as plt\n",
    "import matplotlib.gridspec as gridspec\n",
    "import scipy.stats as st\n",
    "\n",
    "#--------------------------------------------------\n",
    "# Helper Function: fcn_gaussian_plot (mimicking MATLAB)\n",
    "#--------------------------------------------------\n",
    "def fcn_gaussian_plot(ax, x, s, titleStr):\n",
    "    \"\"\"\n",
    "    Mimics the MATLAB fcnGaussianPlot.\n",
    "    Fits a Gaussian to data x (using a fixed sigma value s),\n",
    "    plots vertical tick marks at y=-0.1, fills under the normalized Gaussian density,\n",
    "    overlays the fitted curve, and adds a text label showing the fitted sigma.\n",
    "    All ticks and axes are removed.\n",
    "    \"\"\"\n",
    "    # Generate x values for plotting the fitted curve.\n",
    "    xx = np.linspace(-20, 20, 1000)\n",
    "    y = st.norm.pdf(xx, loc=0, scale=s)\n",
    "    y = y / np.max(y)  # Normalize so that max(y)==1.\n",
    "    \n",
    "    # Plot vertical tick marks at each data point at y = -0.1.\n",
    "    ax.plot(x, np.full_like(x, -0.1), 'k|', markersize=10)\n",
    "    \n",
    "    # Fill the area under the fitted curve.\n",
    "    ax.fill_between(xx, 0, y, color=[0.8, 0.8, 0.8], edgecolor='none')\n",
    "    # Plot the fitted Gaussian curve.\n",
    "    ax.plot(xx, y, 'k', linewidth=2)\n",
    "    \n",
    "    # Add text showing the fitted sigma.\n",
    "    ax.text(-20, 0.6, f\"$\\\\sigma = {s:.1f}$\", fontsize=14)\n",
    "    \n",
    "    # Remove ticks and axis labels.\n",
    "    ax.set_xticks([])\n",
    "    ax.set_yticks([])\n",
    "    ax.axis('off')\n",
    "    ax.set_title(titleStr)\n",
    "    ax.set_xlim([-25, 25])\n",
    "\n",
    "#--------------------------------------------------\n",
    "# Helper Function: fcn_plot_stacked_bars_percent (vertical version using variance percentages)\n",
    "#--------------------------------------------------\n",
    "def fcn_plot_stacked_bars_percent(ax, perc_array, labels=None, on_offset=1):\n",
    "    \"\"\"\n",
    "    Plots a vertical stacked bar using the given percentages.\n",
    "    The input perc_array should be an array of percentages (e.g. [perc_c, perc_l, perc_p, perc_o])\n",
    "    that sum to 100. The labels (if not provided) default to:\n",
    "         ['S', 'LN', 'PN', 'ON'].\n",
    "    Text labels are placed at the midpoint of each segment computed from the cumulative sum.\n",
    "    For the top segment (Occasion Noise), the text is shifted downward by 'on_offset' units\n",
    "    to ensure it is fully visible.\n",
    "    \"\"\"\n",
    "    if labels is None:\n",
    "        labels = ['S', 'LN', 'PN', 'ON']\n",
    "    \n",
    "    # Define colors (similar to MATLAB's cc matrix).\n",
    "    cc = np.array([[0, 0, 0],\n",
    "                   [0.4, 0.4, 0.4],\n",
    "                   [0.5, 0.5, 0.5],\n",
    "                   [0.6, 0.6, 0.6]])\n",
    "    \n",
    "    # Compute cumulative sums of percentages.\n",
    "    cumsum_vals = np.cumsum(perc_array)\n",
    "    prev = 0\n",
    "    for i, val in enumerate(perc_array):\n",
    "        # Compute the midpoint of the segment.\n",
    "        mid = (prev + cumsum_vals[i]) / 2\n",
    "        # For the top segment (last one: ON), shift the text down by on_offset units.\n",
    "        if i == len(perc_array) - 1:\n",
    "            mid = mid - 1.5\n",
    "        if i == len(perc_array) - 2:\n",
    "            mid = mid - 2\n",
    "        ax.bar(0, val, bottom=prev, color=cc[i], width=0.8, edgecolor='none')\n",
    "        ax.text(0, mid, f\"{labels[i]}: {val:.0f}%\", ha='center', va='center', color='white', fontsize=14)\n",
    "        prev = cumsum_vals[i]\n",
    "    \n",
    "    ax.set_xlim(-0.5, 0.5)\n",
    "    ax.set_ylim(0, 100)\n",
    "    ax.set_xticks([])\n",
    "    ax.set_yticks([])\n",
    "    ax.axis('off')\n",
    "\n",
    "#--------------------------------------------------\n",
    "# Plotting for all three sets of results\n",
    "#--------------------------------------------------\n",
    "\n",
    "# List of your results dictionaries and titles for each column\n",
    "results_list = [results1, results2, results3]\n",
    "titles = [\"\", \"\", \"\"]\n",
    "\n",
    "# Create the overall figure. Adjust the figsize if needed.\n",
    "fig = plt.figure(figsize=(15, 12))\n",
    "# Create a 7 (rows) x 3 (columns) grid.\n",
    "gs = gridspec.GridSpec(7, 3, figure=fig, hspace=0.3)\n",
    "\n",
    "# Loop over each results set to plot in its respective column.\n",
    "for col, (res, col_title) in enumerate(zip(results_list, titles)):\n",
    "    # Extract the trace from the results dictionary.\n",
    "    trace = res[\"trace\"]\n",
    "    \n",
    "    # Extract posterior samples for the scale parameters.\n",
    "    sigma_c_samples = trace.posterior['sigma_c'].values.flatten()\n",
    "    sigma_l_samples = trace.posterior['sigma_l'].values.flatten()\n",
    "    sigma_p_samples = trace.posterior['sigma_p'].values.flatten()\n",
    "    sigma_o_samples = trace.posterior['sigma_o'].values.flatten()\n",
    "    \n",
    "    # Compute the variance for each component (variance = sigma^2)\n",
    "    var_c = np.mean(sigma_c_samples ** 2)\n",
    "    var_l = np.mean(sigma_l_samples ** 2)\n",
    "    var_p = np.mean(sigma_p_samples ** 2)\n",
    "    var_o = np.mean(sigma_o_samples ** 2)\n",
    "    \n",
    "    # Calculate the total variance as the sum of the four component variances.\n",
    "    total_variance = var_c + var_l + var_p + var_o\n",
    "    \n",
    "    # Compute percentage contributions.\n",
    "    perc_c = (var_c / total_variance) * 100\n",
    "    perc_l = (var_l / total_variance) * 100\n",
    "    perc_p = (var_p / total_variance) * 100\n",
    "    perc_o = (var_o / total_variance) * 100\n",
    "    \n",
    "    # Compute effective scale estimates (square roots of the variances).\n",
    "    S_est = np.sqrt(var_c)\n",
    "    LN_est = np.sqrt(var_l)\n",
    "    PN_est = np.sqrt(var_p)\n",
    "    ON_est = np.sqrt(var_o)\n",
    "    \n",
    "    # ----------------------------\n",
    "    # Gaussian plot for Occasion Noise (ON)\n",
    "    # ----------------------------\n",
    "    ax1 = fig.add_subplot(gs[0, col])\n",
    "    x_on = np.random.randn(50 * 20) * ON_est\n",
    "    fcn_gaussian_plot(ax1, x_on, ON_est, f\"Occasion Noise (ON)\\n{col_title}\")\n",
    "    \n",
    "    # ----------------------------\n",
    "    # Gaussian plot for Pattern Noise (PN)\n",
    "    # ----------------------------\n",
    "    ax2 = fig.add_subplot(gs[1, col])\n",
    "    x_pn = np.random.randn(20 * 50) * PN_est\n",
    "    fcn_gaussian_plot(ax2, x_pn, PN_est, f\"Pattern Noise (PN)\\n{col_title}\")\n",
    "    \n",
    "    # ----------------------------\n",
    "    # Gaussian plot for Level Noise (LN)\n",
    "    # ----------------------------\n",
    "    ax3 = fig.add_subplot(gs[2, col])\n",
    "    x_ln = np.random.randn(20) * LN_est\n",
    "    fcn_gaussian_plot(ax3, x_ln, LN_est, f\"Level Noise (LN)\\n{col_title}\")\n",
    "    \n",
    "    # ----------------------------\n",
    "    # Gaussian plot for Signal (S)\n",
    "    # ----------------------------\n",
    "    ax4 = fig.add_subplot(gs[3, col])\n",
    "    x_s = np.random.randn(50) * S_est\n",
    "    fcn_gaussian_plot(ax4, x_s, S_est, f\"Signal (S)\\n{col_title}\")\n",
    "    \n",
    "    # ----------------------------\n",
    "    # Vertical Stacked Bar Plot (variance percentages)\n",
    "    # ----------------------------\n",
    "    ax5 = fig.add_subplot(gs[4:, col])\n",
    "    perc_array = [perc_c, perc_l, perc_p, perc_o]\n",
    "    fcn_plot_stacked_bars_percent(ax5, perc_array)\n",
    "\n",
    "# plt.tight_layout()\n",
    "# plt.show()\n",
    "\n",
    "\n",
    "# Adjust layout for clarity.\n",
    "plt.tight_layout()\n",
    "\n",
    "# Save the figure as a publication-ready PNG file.\n",
    "plt.savefig(\"publication_plot.png\", dpi=300, bbox_inches='tight')\n",
    "\n",
    "# Optionally display the figure.\n",
    "plt.show()\n"
   ]
  },
  {
   "cell_type": "code",
   "execution_count": 9,
   "id": "28df289f-f0e0-4873-a055-3dc0d793a1d3",
   "metadata": {},
   "outputs": [
    {
     "data": {
      "image/png": "[encoded data removed]",
      "text/plain": [
       "<Figure size 1500x1200 with 15 Axes>"
      ]
     },
     "metadata": {},
     "output_type": "display_data"
    }
   ],
   "source": [
    "import numpy as np\n",
    "import matplotlib.pyplot as plt\n",
    "import matplotlib.gridspec as gridspec\n",
    "import scipy.stats as st\n",
    "\n",
    "#--------------------------------------------------\n",
    "# Helper Function: fcn_gaussian_plot (mimicking MATLAB)\n",
    "#--------------------------------------------------\n",
    "def fcn_gaussian_plot(ax, x, s, titleStr):\n",
    "    \"\"\"\n",
    "    Mimics the MATLAB fcnGaussianPlot.\n",
    "    Fits a Gaussian to data x (using a fixed sigma value s),\n",
    "    plots vertical tick marks at y=-0.1, fills under the normalized Gaussian density,\n",
    "    overlays the fitted curve, and adds a text label showing the fitted sigma.\n",
    "    All ticks and axes are removed.\n",
    "    \"\"\"\n",
    "    # Generate x values for plotting the fitted curve.\n",
    "    xx = np.linspace(-20, 20, 1000)\n",
    "    y = st.norm.pdf(xx, loc=0, scale=s)\n",
    "    y = y / np.max(y)  # Normalize so that max(y)==1.\n",
    "    \n",
    "    # Plot vertical tick marks at each data point at y = -0.1.\n",
    "    ax.plot(x, np.full_like(x, -0.1), 'k|', markersize=10)\n",
    "    \n",
    "    # Fill the area under the fitted curve.\n",
    "    ax.fill_between(xx, 0, y, color=[0.8, 0.8, 0.8], edgecolor='none')\n",
    "    # Plot the fitted Gaussian curve.\n",
    "    ax.plot(xx, y, 'k', linewidth=2)\n",
    "    \n",
    "    # Add text showing the fitted sigma.\n",
    "    ax.text(-20, 0.6, f\"$\\\\sigma = {s:.1f}$\", fontsize=14)\n",
    "    \n",
    "    # Remove ticks and axis labels.\n",
    "    ax.set_xticks([])\n",
    "    ax.set_yticks([])\n",
    "    ax.axis('off')\n",
    "    # Adjust the title placement with extra padding (adjust pad value as needed)\n",
    "    # ax.set_title(titleStr, pad=20)\n",
    "    ax.set_title(titleStr, y=0.73)\n",
    "    ax.set_xlim([-25, 25])\n",
    "\n",
    "#--------------------------------------------------\n",
    "# Helper Function: fcn_plot_stacked_bars_percent (vertical version using variance percentages)\n",
    "#--------------------------------------------------\n",
    "def fcn_plot_stacked_bars_percent(ax, perc_array, labels=None, on_offset=1):\n",
    "    \"\"\"\n",
    "    Plots a vertical stacked bar using the given percentages.\n",
    "    The input perc_array should be an array of percentages (e.g. [perc_c, perc_l, perc_p, perc_o])\n",
    "    that sum to 100. The labels (if not provided) default to:\n",
    "         ['S', 'LN', 'PN', 'ON'].\n",
    "    Text labels are placed at the midpoint of each segment computed from the cumulative sum.\n",
    "    For the top segment (Occasion Noise), the text is shifted downward by 'on_offset' units\n",
    "    to ensure it is fully visible.\n",
    "    \"\"\"\n",
    "    if labels is None:\n",
    "        labels = ['S', 'LN', 'PN', 'ON']\n",
    "    \n",
    "    # Define colors (similar to MATLAB's cc matrix).\n",
    "    cc = np.array([[0, 0, 0],\n",
    "                   [0.4, 0.4, 0.4],\n",
    "                   [0.5, 0.5, 0.5],\n",
    "                   [0.6, 0.6, 0.6]])\n",
    "    \n",
    "    # Compute cumulative sums of percentages.\n",
    "    cumsum_vals = np.cumsum(perc_array)\n",
    "    prev = 0\n",
    "    for i, val in enumerate(perc_array):\n",
    "        # Compute the midpoint of the segment.\n",
    "        mid = (prev + cumsum_vals[i]) / 2\n",
    "        # For the top segment (last one: ON), shift the text down by on_offset units.\n",
    "        if i == len(perc_array) - 1:\n",
    "            mid = mid - 1.5\n",
    "        if i == len(perc_array) - 2:\n",
    "            mid = mid - 2\n",
    "        ax.bar(0, val, bottom=prev, color=cc[i], width=0.8, edgecolor='none')\n",
    "        ax.text(0, mid, f\"{labels[i]}: {val:.0f}%\", ha='center', va='center', color='white', fontsize=14)\n",
    "        prev = cumsum_vals[i]\n",
    "    \n",
    "    ax.set_xlim(-0.5, 0.5)\n",
    "    ax.set_ylim(0, 100)\n",
    "    ax.set_xticks([])\n",
    "    ax.set_yticks([])\n",
    "    ax.axis('off')\n",
    "\n",
    "#--------------------------------------------------\n",
    "# Plotting for all three sets of results\n",
    "#--------------------------------------------------\n",
    "\n",
    "# List of your results dictionaries and titles for each column\n",
    "results_list = [results1, results2, results3]\n",
    "titles = [\"\", \"\", \"\"]\n",
    "\n",
    "# Create the overall figure. Adjust the figsize if needed.\n",
    "fig = plt.figure(figsize=(15, 12))\n",
    "# Create a 7 (rows) x 3 (columns) grid.\n",
    "gs = gridspec.GridSpec(7, 3, figure=fig, hspace=0.3)\n",
    "\n",
    "# Loop over each results set to plot in its respective column.\n",
    "for col, (res, col_title) in enumerate(zip(results_list, titles)):\n",
    "    # Extract the trace from the results dictionary.\n",
    "    trace = res[\"trace\"]\n",
    "    \n",
    "    # Extract posterior samples for the scale parameters.\n",
    "    sigma_c_samples = trace.posterior['sigma_c'].values.flatten()\n",
    "    sigma_l_samples = trace.posterior['sigma_l'].values.flatten()\n",
    "    sigma_p_samples = trace.posterior['sigma_p'].values.flatten()\n",
    "    sigma_o_samples = trace.posterior['sigma_o'].values.flatten()\n",
    "    \n",
    "    # Compute the variance for each component (variance = sigma^2)\n",
    "    var_c = np.mean(sigma_c_samples ** 2)\n",
    "    var_l = np.mean(sigma_l_samples ** 2)\n",
    "    var_p = np.mean(sigma_p_samples ** 2)\n",
    "    var_o = np.mean(sigma_o_samples ** 2)\n",
    "    \n",
    "    # Calculate the total variance as the sum of the four component variances.\n",
    "    total_variance = var_c + var_l + var_p + var_o\n",
    "    \n",
    "    # Compute percentage contributions.\n",
    "    perc_c = (var_c / total_variance) * 100\n",
    "    perc_l = (var_l / total_variance) * 100\n",
    "    perc_p = (var_p / total_variance) * 100\n",
    "    perc_o = (var_o / total_variance) * 100\n",
    "    \n",
    "    # Compute effective scale estimates (square roots of the variances).\n",
    "    S_est = np.sqrt(var_c)\n",
    "    LN_est = np.sqrt(var_l)\n",
    "    PN_est = np.sqrt(var_p)\n",
    "    ON_est = np.sqrt(var_o)\n",
    "    \n",
    "    # ----------------------------\n",
    "    # Gaussian plot for Occasion Noise (ON)\n",
    "    # ----------------------------\n",
    "    ax1 = fig.add_subplot(gs[0, col])\n",
    "    x_on = np.random.randn(50 * 20) * ON_est\n",
    "    fcn_gaussian_plot(ax1, x_on, ON_est, f\"Occasion Noise (ON)\\n{col_title}\")\n",
    "    \n",
    "    # ----------------------------\n",
    "    # Gaussian plot for Pattern Noise (PN)\n",
    "    # ----------------------------\n",
    "    ax2 = fig.add_subplot(gs[1, col])\n",
    "    x_pn = np.random.randn(20 * 50) * PN_est\n",
    "    fcn_gaussian_plot(ax2, x_pn, PN_est, f\"Pattern Noise (PN)\\n{col_title}\")\n",
    "    \n",
    "    # ----------------------------\n",
    "    # Gaussian plot for Level Noise (LN)\n",
    "    # ----------------------------\n",
    "    ax3 = fig.add_subplot(gs[2, col])\n",
    "    x_ln = np.random.randn(20) * LN_est\n",
    "    fcn_gaussian_plot(ax3, x_ln, LN_est, f\"Level Noise (LN)\\n{col_title}\")\n",
    "    \n",
    "    # ----------------------------\n",
    "    # Gaussian plot for Signal (S)\n",
    "    # ----------------------------\n",
    "    ax4 = fig.add_subplot(gs[3, col])\n",
    "    x_s = np.random.randn(50) * S_est\n",
    "    fcn_gaussian_plot(ax4, x_s, S_est, f\"Signal (S)\\n{col_title}\")\n",
    "    \n",
    "    # ----------------------------\n",
    "    # Vertical Stacked Bar Plot (variance percentages)\n",
    "    # ----------------------------\n",
    "    ax5 = fig.add_subplot(gs[4:, col])\n",
    "    perc_array = [perc_c, perc_l, perc_p, perc_o]\n",
    "    fcn_plot_stacked_bars_percent(ax5, perc_array)\n",
    "\n",
    "# Adjust layout for clarity.\n",
    "plt.tight_layout()\n",
    "\n",
    "# Save the figure as a publication-ready PNG file.\n",
    "plt.savefig(\"publication_plot.png\", dpi=300, bbox_inches='tight')\n",
    "\n",
    "# Optionally display the figure.\n",
    "plt.show()\n"
   ]
  }
 ],
 "metadata": {
  "kernelspec": {
   "display_name": "Python 3 (ipykernel)",
   "language": "python",
   "name": "python3"
  },
  "language_info": {
   "codemirror_mode": {
    "name": "ipython",
    "version": 3
   },
   "file_extension": ".py",
   "mimetype": "text/x-python",
   "name": "python",
   "nbconvert_exporter": "python",
   "pygments_lexer": "ipython3",
   "version": "3.9.6"
  }
 },
 "nbformat": 4,
 "nbformat_minor": 5
}
